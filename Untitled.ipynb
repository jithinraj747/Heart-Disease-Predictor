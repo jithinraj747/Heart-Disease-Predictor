{
 "cells": [
  {
   "cell_type": "markdown",
   "id": "d0882fba-844f-46e3-b1e2-9d1da42ed06f",
   "metadata": {},
   "source": [
    "### importing dependencies"
   ]
  },
  {
   "cell_type": "code",
   "execution_count": 1,
   "id": "c2a95125-6e6c-4c5e-b0e9-0079f9b42789",
   "metadata": {},
   "outputs": [],
   "source": [
    "import numpy as np\n",
    "import pandas as pd\n",
    "import matplotlib.pyplot as plt\n",
    "\n",
    "from sklearn.model_selection import KFold\n",
    "from sklearn.model_selection import cross_val_score \n",
    "\n",
    "from sklearn.linear_model import LogisticRegression\n",
    "from sklearn.svm import SVC\n",
    "from sklearn.tree import DecisionTreeClassifier\n",
    "from sklearn.naive_bayes import GaussianNB\n",
    "from sklearn.neighbors import KNeighborsClassifier\n",
    "from sklearn.discriminant_analysis import LinearDiscriminantAnalysis"
   ]
  },
  {
   "cell_type": "code",
   "execution_count": 2,
   "id": "1fc68feb-2dc0-4583-aa84-27d9ec2db457",
   "metadata": {},
   "outputs": [],
   "source": [
    "\n",
    "    # Age: age of the patient [years]\n",
    "    # Sex: sex of the patient [M: Male, F: Female]\n",
    "    # ChestPainType: chest pain type [TA: Typical Angina, ATA: Atypical Angina, NAP: Non-Anginal Pain, ASY: Asymptomatic]\n",
    "    # RestingBP: resting blood pressure [mm Hg]\n",
    "    # Cholesterol: serum cholesterol [mm/dl]\n",
    "    # FastingBS: fasting blood sugar [1: if FastingBS > 120 mg/dl, 0: otherwise]\n",
    "    # RestingECG: resting electrocardiogram results [Normal: Normal, ST: having ST-T wave abnormality (T wave inversions and/or ST elevation or depression of > 0.05 mV), LVH: showing probable or definite left ventricular hypertrophy by Estes' criteria]\n",
    "    # MaxHR: maximum heart rate achieved [Numeric value between 60 and 202]\n",
    "    # ExerciseAngina: exercise-induced angina [Y: Yes, N: No]\n",
    "    # Oldpeak: oldpeak = ST [Numeric value measured in depression]\n",
    "    # ST_Slope: the slope of the peak exercise ST segment [Up: upsloping, Flat: flat, Down: downsloping]\n",
    "    # HeartDisease: output class [1: heart disease, 0: Normal]\n"
   ]
  },
  {
   "cell_type": "markdown",
   "id": "103aab93-7155-43b5-a097-d2f6567e5588",
   "metadata": {},
   "source": [
    "### reading the data"
   ]
  },
  {
   "cell_type": "code",
   "execution_count": 3,
   "id": "b8790ea0-2560-448e-91dc-2e2dc55713aa",
   "metadata": {},
   "outputs": [
    {
     "data": {
      "text/html": [
       "<div>\n",
       "<style scoped>\n",
       "    .dataframe tbody tr th:only-of-type {\n",
       "        vertical-align: middle;\n",
       "    }\n",
       "\n",
       "    .dataframe tbody tr th {\n",
       "        vertical-align: top;\n",
       "    }\n",
       "\n",
       "    .dataframe thead th {\n",
       "        text-align: right;\n",
       "    }\n",
       "</style>\n",
       "<table border=\"1\" class=\"dataframe\">\n",
       "  <thead>\n",
       "    <tr style=\"text-align: right;\">\n",
       "      <th></th>\n",
       "      <th>Age</th>\n",
       "      <th>Sex</th>\n",
       "      <th>ChestPainType</th>\n",
       "      <th>RestingBP</th>\n",
       "      <th>Cholesterol</th>\n",
       "      <th>FastingBS</th>\n",
       "      <th>RestingECG</th>\n",
       "      <th>MaxHR</th>\n",
       "      <th>ExerciseAngina</th>\n",
       "      <th>Oldpeak</th>\n",
       "      <th>ST_Slope</th>\n",
       "      <th>HeartDisease</th>\n",
       "    </tr>\n",
       "  </thead>\n",
       "  <tbody>\n",
       "    <tr>\n",
       "      <th>0</th>\n",
       "      <td>40</td>\n",
       "      <td>M</td>\n",
       "      <td>ATA</td>\n",
       "      <td>140</td>\n",
       "      <td>289</td>\n",
       "      <td>0</td>\n",
       "      <td>Normal</td>\n",
       "      <td>172</td>\n",
       "      <td>N</td>\n",
       "      <td>0.0</td>\n",
       "      <td>Up</td>\n",
       "      <td>0</td>\n",
       "    </tr>\n",
       "    <tr>\n",
       "      <th>1</th>\n",
       "      <td>49</td>\n",
       "      <td>F</td>\n",
       "      <td>NAP</td>\n",
       "      <td>160</td>\n",
       "      <td>180</td>\n",
       "      <td>0</td>\n",
       "      <td>Normal</td>\n",
       "      <td>156</td>\n",
       "      <td>N</td>\n",
       "      <td>1.0</td>\n",
       "      <td>Flat</td>\n",
       "      <td>1</td>\n",
       "    </tr>\n",
       "    <tr>\n",
       "      <th>2</th>\n",
       "      <td>37</td>\n",
       "      <td>M</td>\n",
       "      <td>ATA</td>\n",
       "      <td>130</td>\n",
       "      <td>283</td>\n",
       "      <td>0</td>\n",
       "      <td>ST</td>\n",
       "      <td>98</td>\n",
       "      <td>N</td>\n",
       "      <td>0.0</td>\n",
       "      <td>Up</td>\n",
       "      <td>0</td>\n",
       "    </tr>\n",
       "    <tr>\n",
       "      <th>3</th>\n",
       "      <td>48</td>\n",
       "      <td>F</td>\n",
       "      <td>ASY</td>\n",
       "      <td>138</td>\n",
       "      <td>214</td>\n",
       "      <td>0</td>\n",
       "      <td>Normal</td>\n",
       "      <td>108</td>\n",
       "      <td>Y</td>\n",
       "      <td>1.5</td>\n",
       "      <td>Flat</td>\n",
       "      <td>1</td>\n",
       "    </tr>\n",
       "    <tr>\n",
       "      <th>4</th>\n",
       "      <td>54</td>\n",
       "      <td>M</td>\n",
       "      <td>NAP</td>\n",
       "      <td>150</td>\n",
       "      <td>195</td>\n",
       "      <td>0</td>\n",
       "      <td>Normal</td>\n",
       "      <td>122</td>\n",
       "      <td>N</td>\n",
       "      <td>0.0</td>\n",
       "      <td>Up</td>\n",
       "      <td>0</td>\n",
       "    </tr>\n",
       "  </tbody>\n",
       "</table>\n",
       "</div>"
      ],
      "text/plain": [
       "   Age Sex ChestPainType  RestingBP  Cholesterol  FastingBS RestingECG  MaxHR  \\\n",
       "0   40   M           ATA        140          289          0     Normal    172   \n",
       "1   49   F           NAP        160          180          0     Normal    156   \n",
       "2   37   M           ATA        130          283          0         ST     98   \n",
       "3   48   F           ASY        138          214          0     Normal    108   \n",
       "4   54   M           NAP        150          195          0     Normal    122   \n",
       "\n",
       "  ExerciseAngina  Oldpeak ST_Slope  HeartDisease  \n",
       "0              N      0.0       Up             0  \n",
       "1              N      1.0     Flat             1  \n",
       "2              N      0.0       Up             0  \n",
       "3              Y      1.5     Flat             1  \n",
       "4              N      0.0       Up             0  "
      ]
     },
     "execution_count": 3,
     "metadata": {},
     "output_type": "execute_result"
    }
   ],
   "source": [
    "df = pd.read_csv('heart.csv')\n",
    "df.head()"
   ]
  },
  {
   "cell_type": "markdown",
   "id": "c8e9e170-3a67-406e-81eb-f4c662390473",
   "metadata": {},
   "source": [
    "### data analysis "
   ]
  },
  {
   "cell_type": "code",
   "execution_count": 4,
   "id": "d614692b-8006-4027-9a61-cca216188dd5",
   "metadata": {},
   "outputs": [
    {
     "data": {
      "text/plain": [
       "(918, 12)"
      ]
     },
     "execution_count": 4,
     "metadata": {},
     "output_type": "execute_result"
    }
   ],
   "source": [
    "df.shape"
   ]
  },
  {
   "cell_type": "code",
   "execution_count": 5,
   "id": "c3137837-f80e-4989-b861-c9a3fed948b0",
   "metadata": {},
   "outputs": [
    {
     "data": {
      "text/plain": [
       "Age                 int64\n",
       "Sex                object\n",
       "ChestPainType      object\n",
       "RestingBP           int64\n",
       "Cholesterol         int64\n",
       "FastingBS           int64\n",
       "RestingECG         object\n",
       "MaxHR               int64\n",
       "ExerciseAngina     object\n",
       "Oldpeak           float64\n",
       "ST_Slope           object\n",
       "HeartDisease        int64\n",
       "dtype: object"
      ]
     },
     "execution_count": 5,
     "metadata": {},
     "output_type": "execute_result"
    }
   ],
   "source": [
    "df.dtypes"
   ]
  },
  {
   "cell_type": "code",
   "execution_count": 6,
   "id": "a4865d06-9fdf-465c-b867-6a38444a216f",
   "metadata": {},
   "outputs": [
    {
     "data": {
      "text/plain": [
       "HeartDisease\n",
       "1    508\n",
       "0    410\n",
       "Name: count, dtype: int64"
      ]
     },
     "execution_count": 6,
     "metadata": {},
     "output_type": "execute_result"
    }
   ],
   "source": [
    "df.HeartDisease.value_counts()"
   ]
  },
  {
   "cell_type": "code",
   "execution_count": 7,
   "id": "470a3224-aabd-4bdf-a316-be669b76f3e5",
   "metadata": {},
   "outputs": [
    {
     "data": {
      "text/plain": [
       "['Age',\n",
       " 'Sex',\n",
       " 'ChestPainType',\n",
       " 'RestingBP',\n",
       " 'Cholesterol',\n",
       " 'FastingBS',\n",
       " 'RestingECG',\n",
       " 'MaxHR',\n",
       " 'ExerciseAngina',\n",
       " 'Oldpeak',\n",
       " 'ST_Slope',\n",
       " 'HeartDisease']"
      ]
     },
     "execution_count": 7,
     "metadata": {},
     "output_type": "execute_result"
    }
   ],
   "source": [
    "list(df)"
   ]
  },
  {
   "cell_type": "code",
   "execution_count": 8,
   "id": "f4995747-5b86-4d04-bf11-bc307500dea2",
   "metadata": {},
   "outputs": [
    {
     "data": {
      "text/html": [
       "<div>\n",
       "<style scoped>\n",
       "    .dataframe tbody tr th:only-of-type {\n",
       "        vertical-align: middle;\n",
       "    }\n",
       "\n",
       "    .dataframe tbody tr th {\n",
       "        vertical-align: top;\n",
       "    }\n",
       "\n",
       "    .dataframe thead th {\n",
       "        text-align: right;\n",
       "    }\n",
       "</style>\n",
       "<table border=\"1\" class=\"dataframe\">\n",
       "  <thead>\n",
       "    <tr style=\"text-align: right;\">\n",
       "      <th></th>\n",
       "      <th>Age</th>\n",
       "      <th>RestingBP</th>\n",
       "      <th>Cholesterol</th>\n",
       "      <th>FastingBS</th>\n",
       "      <th>MaxHR</th>\n",
       "      <th>Oldpeak</th>\n",
       "      <th>HeartDisease</th>\n",
       "    </tr>\n",
       "  </thead>\n",
       "  <tbody>\n",
       "    <tr>\n",
       "      <th>count</th>\n",
       "      <td>918.000000</td>\n",
       "      <td>918.000000</td>\n",
       "      <td>918.000000</td>\n",
       "      <td>918.000000</td>\n",
       "      <td>918.000000</td>\n",
       "      <td>918.000000</td>\n",
       "      <td>918.000000</td>\n",
       "    </tr>\n",
       "    <tr>\n",
       "      <th>mean</th>\n",
       "      <td>53.510893</td>\n",
       "      <td>132.396514</td>\n",
       "      <td>198.799564</td>\n",
       "      <td>0.233115</td>\n",
       "      <td>136.809368</td>\n",
       "      <td>0.887364</td>\n",
       "      <td>0.553377</td>\n",
       "    </tr>\n",
       "    <tr>\n",
       "      <th>std</th>\n",
       "      <td>9.432617</td>\n",
       "      <td>18.514154</td>\n",
       "      <td>109.384145</td>\n",
       "      <td>0.423046</td>\n",
       "      <td>25.460334</td>\n",
       "      <td>1.066570</td>\n",
       "      <td>0.497414</td>\n",
       "    </tr>\n",
       "    <tr>\n",
       "      <th>min</th>\n",
       "      <td>28.000000</td>\n",
       "      <td>0.000000</td>\n",
       "      <td>0.000000</td>\n",
       "      <td>0.000000</td>\n",
       "      <td>60.000000</td>\n",
       "      <td>-2.600000</td>\n",
       "      <td>0.000000</td>\n",
       "    </tr>\n",
       "    <tr>\n",
       "      <th>25%</th>\n",
       "      <td>47.000000</td>\n",
       "      <td>120.000000</td>\n",
       "      <td>173.250000</td>\n",
       "      <td>0.000000</td>\n",
       "      <td>120.000000</td>\n",
       "      <td>0.000000</td>\n",
       "      <td>0.000000</td>\n",
       "    </tr>\n",
       "    <tr>\n",
       "      <th>50%</th>\n",
       "      <td>54.000000</td>\n",
       "      <td>130.000000</td>\n",
       "      <td>223.000000</td>\n",
       "      <td>0.000000</td>\n",
       "      <td>138.000000</td>\n",
       "      <td>0.600000</td>\n",
       "      <td>1.000000</td>\n",
       "    </tr>\n",
       "    <tr>\n",
       "      <th>75%</th>\n",
       "      <td>60.000000</td>\n",
       "      <td>140.000000</td>\n",
       "      <td>267.000000</td>\n",
       "      <td>0.000000</td>\n",
       "      <td>156.000000</td>\n",
       "      <td>1.500000</td>\n",
       "      <td>1.000000</td>\n",
       "    </tr>\n",
       "    <tr>\n",
       "      <th>max</th>\n",
       "      <td>77.000000</td>\n",
       "      <td>200.000000</td>\n",
       "      <td>603.000000</td>\n",
       "      <td>1.000000</td>\n",
       "      <td>202.000000</td>\n",
       "      <td>6.200000</td>\n",
       "      <td>1.000000</td>\n",
       "    </tr>\n",
       "  </tbody>\n",
       "</table>\n",
       "</div>"
      ],
      "text/plain": [
       "              Age   RestingBP  Cholesterol   FastingBS       MaxHR  \\\n",
       "count  918.000000  918.000000   918.000000  918.000000  918.000000   \n",
       "mean    53.510893  132.396514   198.799564    0.233115  136.809368   \n",
       "std      9.432617   18.514154   109.384145    0.423046   25.460334   \n",
       "min     28.000000    0.000000     0.000000    0.000000   60.000000   \n",
       "25%     47.000000  120.000000   173.250000    0.000000  120.000000   \n",
       "50%     54.000000  130.000000   223.000000    0.000000  138.000000   \n",
       "75%     60.000000  140.000000   267.000000    0.000000  156.000000   \n",
       "max     77.000000  200.000000   603.000000    1.000000  202.000000   \n",
       "\n",
       "          Oldpeak  HeartDisease  \n",
       "count  918.000000    918.000000  \n",
       "mean     0.887364      0.553377  \n",
       "std      1.066570      0.497414  \n",
       "min     -2.600000      0.000000  \n",
       "25%      0.000000      0.000000  \n",
       "50%      0.600000      1.000000  \n",
       "75%      1.500000      1.000000  \n",
       "max      6.200000      1.000000  "
      ]
     },
     "execution_count": 8,
     "metadata": {},
     "output_type": "execute_result"
    }
   ],
   "source": [
    "df.describe()"
   ]
  },
  {
   "cell_type": "code",
   "execution_count": 9,
   "id": "5d31d216-c735-4545-84ab-49a06e5f0004",
   "metadata": {},
   "outputs": [
    {
     "name": "stdout",
     "output_type": "stream",
     "text": [
      "<class 'pandas.core.frame.DataFrame'>\n",
      "RangeIndex: 918 entries, 0 to 917\n",
      "Data columns (total 12 columns):\n",
      " #   Column          Non-Null Count  Dtype  \n",
      "---  ------          --------------  -----  \n",
      " 0   Age             918 non-null    int64  \n",
      " 1   Sex             918 non-null    object \n",
      " 2   ChestPainType   918 non-null    object \n",
      " 3   RestingBP       918 non-null    int64  \n",
      " 4   Cholesterol     918 non-null    int64  \n",
      " 5   FastingBS       918 non-null    int64  \n",
      " 6   RestingECG      918 non-null    object \n",
      " 7   MaxHR           918 non-null    int64  \n",
      " 8   ExerciseAngina  918 non-null    object \n",
      " 9   Oldpeak         918 non-null    float64\n",
      " 10  ST_Slope        918 non-null    object \n",
      " 11  HeartDisease    918 non-null    int64  \n",
      "dtypes: float64(1), int64(6), object(5)\n",
      "memory usage: 86.2+ KB\n"
     ]
    }
   ],
   "source": [
    "df.info()"
   ]
  },
  {
   "cell_type": "code",
   "execution_count": 10,
   "id": "47e1cfe9-f826-42e9-9d3d-689145ff352a",
   "metadata": {},
   "outputs": [
    {
     "data": {
      "text/plain": [
       "HeartDisease\n",
       "1    508\n",
       "0    410\n",
       "Name: count, dtype: int64"
      ]
     },
     "execution_count": 10,
     "metadata": {},
     "output_type": "execute_result"
    }
   ],
   "source": [
    "df.HeartDisease.value_counts()"
   ]
  },
  {
   "cell_type": "code",
   "execution_count": 11,
   "id": "9b828b8c-6166-4490-8434-eea59b2d59ce",
   "metadata": {},
   "outputs": [],
   "source": [
    "# the dataset is quite balanced "
   ]
  },
  {
   "cell_type": "code",
   "execution_count": 12,
   "id": "0e41f5b6-57c4-4ffa-8371-2ccacbc6543b",
   "metadata": {},
   "outputs": [
    {
     "data": {
      "text/html": [
       "<div>\n",
       "<style scoped>\n",
       "    .dataframe tbody tr th:only-of-type {\n",
       "        vertical-align: middle;\n",
       "    }\n",
       "\n",
       "    .dataframe tbody tr th {\n",
       "        vertical-align: top;\n",
       "    }\n",
       "\n",
       "    .dataframe thead th {\n",
       "        text-align: right;\n",
       "    }\n",
       "</style>\n",
       "<table border=\"1\" class=\"dataframe\">\n",
       "  <thead>\n",
       "    <tr style=\"text-align: right;\">\n",
       "      <th></th>\n",
       "      <th>Age</th>\n",
       "      <th>RestingBP</th>\n",
       "      <th>Cholesterol</th>\n",
       "      <th>FastingBS</th>\n",
       "      <th>MaxHR</th>\n",
       "      <th>Oldpeak</th>\n",
       "    </tr>\n",
       "    <tr>\n",
       "      <th>HeartDisease</th>\n",
       "      <th></th>\n",
       "      <th></th>\n",
       "      <th></th>\n",
       "      <th></th>\n",
       "      <th></th>\n",
       "      <th></th>\n",
       "    </tr>\n",
       "  </thead>\n",
       "  <tbody>\n",
       "    <tr>\n",
       "      <th>0</th>\n",
       "      <td>50.551220</td>\n",
       "      <td>130.180488</td>\n",
       "      <td>227.121951</td>\n",
       "      <td>0.107317</td>\n",
       "      <td>148.151220</td>\n",
       "      <td>0.408049</td>\n",
       "    </tr>\n",
       "    <tr>\n",
       "      <th>1</th>\n",
       "      <td>55.899606</td>\n",
       "      <td>134.185039</td>\n",
       "      <td>175.940945</td>\n",
       "      <td>0.334646</td>\n",
       "      <td>127.655512</td>\n",
       "      <td>1.274213</td>\n",
       "    </tr>\n",
       "  </tbody>\n",
       "</table>\n",
       "</div>"
      ],
      "text/plain": [
       "                    Age   RestingBP  Cholesterol  FastingBS       MaxHR  \\\n",
       "HeartDisease                                                              \n",
       "0             50.551220  130.180488   227.121951   0.107317  148.151220   \n",
       "1             55.899606  134.185039   175.940945   0.334646  127.655512   \n",
       "\n",
       "               Oldpeak  \n",
       "HeartDisease            \n",
       "0             0.408049  \n",
       "1             1.274213  "
      ]
     },
     "execution_count": 12,
     "metadata": {},
     "output_type": "execute_result"
    }
   ],
   "source": [
    "df.groupby('HeartDisease').mean(numeric_only=True)"
   ]
  },
  {
   "cell_type": "markdown",
   "id": "3e22f01c-f07b-40c6-91c4-b25835a1225b",
   "metadata": {},
   "source": [
    "### null value handling"
   ]
  },
  {
   "cell_type": "code",
   "execution_count": 13,
   "id": "16881a6b-6813-410b-8493-0003145eeda4",
   "metadata": {},
   "outputs": [
    {
     "data": {
      "text/plain": [
       "Age               0\n",
       "Sex               0\n",
       "ChestPainType     0\n",
       "RestingBP         0\n",
       "Cholesterol       0\n",
       "FastingBS         0\n",
       "RestingECG        0\n",
       "MaxHR             0\n",
       "ExerciseAngina    0\n",
       "Oldpeak           0\n",
       "ST_Slope          0\n",
       "HeartDisease      0\n",
       "dtype: int64"
      ]
     },
     "execution_count": 13,
     "metadata": {},
     "output_type": "execute_result"
    }
   ],
   "source": [
    "df.isnull().sum()"
   ]
  },
  {
   "cell_type": "code",
   "execution_count": 14,
   "id": "9d91b0a7-9fb6-4df2-b4cc-bfe21b6f15d0",
   "metadata": {},
   "outputs": [],
   "source": [
    "# there are no null values"
   ]
  },
  {
   "cell_type": "code",
   "execution_count": 15,
   "id": "e13b15ec-b4b1-4b2e-8f7e-ea790e0d5664",
   "metadata": {},
   "outputs": [
    {
     "data": {
      "text/plain": [
       "Age              77.0\n",
       "RestingBP       200.0\n",
       "Cholesterol     603.0\n",
       "FastingBS         1.0\n",
       "MaxHR           202.0\n",
       "Oldpeak           6.2\n",
       "HeartDisease      1.0\n",
       "dtype: float64"
      ]
     },
     "execution_count": 15,
     "metadata": {},
     "output_type": "execute_result"
    }
   ],
   "source": [
    "df.max(numeric_only=True)"
   ]
  },
  {
   "cell_type": "code",
   "execution_count": 16,
   "id": "043d181f-f72c-4ab8-b1ad-87b6e6305bc1",
   "metadata": {},
   "outputs": [
    {
     "data": {
      "text/plain": [
       "Age             28.0\n",
       "RestingBP        0.0\n",
       "Cholesterol      0.0\n",
       "FastingBS        0.0\n",
       "MaxHR           60.0\n",
       "Oldpeak         -2.6\n",
       "HeartDisease     0.0\n",
       "dtype: float64"
      ]
     },
     "execution_count": 16,
     "metadata": {},
     "output_type": "execute_result"
    }
   ],
   "source": [
    "df.min(numeric_only=True)"
   ]
  },
  {
   "cell_type": "code",
   "execution_count": 17,
   "id": "f2608e55-6d0b-40b8-a04d-21b7eeb8e4b4",
   "metadata": {},
   "outputs": [],
   "source": [
    "# the minimum values for resting BP and cholesterol levels is zero in the dataset. But this is not possible in reality. \n",
    "# these unrealistic 'zero' values are similar to null values."
   ]
  },
  {
   "cell_type": "code",
   "execution_count": 18,
   "id": "4f37b839-77a8-4461-80ea-5b2ee95b8b6c",
   "metadata": {},
   "outputs": [
    {
     "data": {
      "text/plain": [
       "1"
      ]
     },
     "execution_count": 18,
     "metadata": {},
     "output_type": "execute_result"
    }
   ],
   "source": [
    "df[df.RestingBP==0].shape[0]"
   ]
  },
  {
   "cell_type": "code",
   "execution_count": 19,
   "id": "b7dee3d7-825d-4c6a-abe1-3fdf7f0a41cf",
   "metadata": {},
   "outputs": [
    {
     "data": {
      "text/plain": [
       "172"
      ]
     },
     "execution_count": 19,
     "metadata": {},
     "output_type": "execute_result"
    }
   ],
   "source": [
    "df[df.Cholesterol==0].shape[0]"
   ]
  },
  {
   "cell_type": "code",
   "execution_count": 20,
   "id": "32641c0a-9e8d-4a84-a2c9-769773c2ee8d",
   "metadata": {},
   "outputs": [],
   "source": [
    "# since there is only one row containing RestingBp=0, we are going to remove that row\n",
    "\n",
    "df1 = df[df.RestingBP!=0]"
   ]
  },
  {
   "cell_type": "code",
   "execution_count": 21,
   "id": "7baae9df-150b-418d-8c98-dc12fe8a0352",
   "metadata": {},
   "outputs": [
    {
     "name": "stderr",
     "output_type": "stream",
     "text": [
      "/tmp/ipykernel_12503/3706051224.py:4: SettingWithCopyWarning: \n",
      "A value is trying to be set on a copy of a slice from a DataFrame\n",
      "\n",
      "See the caveats in the documentation: https://pandas.pydata.org/pandas-docs/stable/user_guide/indexing.html#returning-a-view-versus-a-copy\n",
      "  df1.Cholesterol.replace(0,df.Cholesterol.values.mean(),inplace=True)\n"
     ]
    }
   ],
   "source": [
    "# however there are 171 rows containing cholesterol=0 which is a huge error. \n",
    "# we are going to replace these zero values with mean cholesterol value.\n",
    "\n",
    "df1.Cholesterol.replace(0,df.Cholesterol.values.mean(),inplace=True)"
   ]
  },
  {
   "cell_type": "code",
   "execution_count": 22,
   "id": "8860562a-4da7-4e24-bcbc-43fbf0cc758c",
   "metadata": {},
   "outputs": [
    {
     "data": {
      "text/plain": [
       "Age             28.0\n",
       "RestingBP       80.0\n",
       "Cholesterol     85.0\n",
       "FastingBS        0.0\n",
       "MaxHR           60.0\n",
       "Oldpeak         -2.6\n",
       "HeartDisease     0.0\n",
       "dtype: float64"
      ]
     },
     "execution_count": 22,
     "metadata": {},
     "output_type": "execute_result"
    }
   ],
   "source": [
    "df1.min(numeric_only=True)"
   ]
  },
  {
   "cell_type": "markdown",
   "id": "6716ec6b-1a96-43af-899e-1c32cd4cf6bf",
   "metadata": {},
   "source": [
    "### checking correlation among numerical values"
   ]
  },
  {
   "cell_type": "code",
   "execution_count": 23,
   "id": "275ee833-2af4-44a1-964d-929999a486a4",
   "metadata": {},
   "outputs": [
    {
     "data": {
      "text/html": [
       "<style type=\"text/css\">\n",
       "#T_11a06_row0_col0, #T_11a06_row1_col1, #T_11a06_row2_col2, #T_11a06_row3_col3, #T_11a06_row4_col4, #T_11a06_row5_col5 {\n",
       "  background-color: #b40426;\n",
       "  color: #f1f1f1;\n",
       "}\n",
       "#T_11a06_row0_col1 {\n",
       "  background-color: #aac7fd;\n",
       "  color: #000000;\n",
       "}\n",
       "#T_11a06_row0_col2 {\n",
       "  background-color: #4e68d8;\n",
       "  color: #f1f1f1;\n",
       "}\n",
       "#T_11a06_row0_col3 {\n",
       "  background-color: #9bbcff;\n",
       "  color: #000000;\n",
       "}\n",
       "#T_11a06_row0_col4, #T_11a06_row3_col2, #T_11a06_row4_col0, #T_11a06_row4_col1, #T_11a06_row4_col3, #T_11a06_row4_col5 {\n",
       "  background-color: #3b4cc0;\n",
       "  color: #f1f1f1;\n",
       "}\n",
       "#T_11a06_row0_col5 {\n",
       "  background-color: #b3cdfb;\n",
       "  color: #000000;\n",
       "}\n",
       "#T_11a06_row1_col0 {\n",
       "  background-color: #d4dbe6;\n",
       "  color: #000000;\n",
       "}\n",
       "#T_11a06_row1_col2 {\n",
       "  background-color: #6a8bef;\n",
       "  color: #f1f1f1;\n",
       "}\n",
       "#T_11a06_row1_col3 {\n",
       "  background-color: #7396f5;\n",
       "  color: #f1f1f1;\n",
       "}\n",
       "#T_11a06_row1_col4 {\n",
       "  background-color: #7a9df8;\n",
       "  color: #f1f1f1;\n",
       "}\n",
       "#T_11a06_row1_col5 {\n",
       "  background-color: #9abbff;\n",
       "  color: #000000;\n",
       "}\n",
       "#T_11a06_row2_col0 {\n",
       "  background-color: #98b9ff;\n",
       "  color: #000000;\n",
       "}\n",
       "#T_11a06_row2_col1, #T_11a06_row3_col5 {\n",
       "  background-color: #7699f6;\n",
       "  color: #f1f1f1;\n",
       "}\n",
       "#T_11a06_row2_col3 {\n",
       "  background-color: #4c66d6;\n",
       "  color: #f1f1f1;\n",
       "}\n",
       "#T_11a06_row2_col4 {\n",
       "  background-color: #a9c6fd;\n",
       "  color: #000000;\n",
       "}\n",
       "#T_11a06_row2_col5 {\n",
       "  background-color: #779af7;\n",
       "  color: #f1f1f1;\n",
       "}\n",
       "#T_11a06_row3_col0 {\n",
       "  background-color: #c6d6f1;\n",
       "  color: #000000;\n",
       "}\n",
       "#T_11a06_row3_col1, #T_11a06_row5_col4 {\n",
       "  background-color: #6c8ff1;\n",
       "  color: #f1f1f1;\n",
       "}\n",
       "#T_11a06_row3_col4 {\n",
       "  background-color: #7597f6;\n",
       "  color: #f1f1f1;\n",
       "}\n",
       "#T_11a06_row4_col2 {\n",
       "  background-color: #6282ea;\n",
       "  color: #f1f1f1;\n",
       "}\n",
       "#T_11a06_row5_col0 {\n",
       "  background-color: #d3dbe7;\n",
       "  color: #000000;\n",
       "}\n",
       "#T_11a06_row5_col1 {\n",
       "  background-color: #8fb1fe;\n",
       "  color: #000000;\n",
       "}\n",
       "#T_11a06_row5_col2 {\n",
       "  background-color: #5e7de7;\n",
       "  color: #f1f1f1;\n",
       "}\n",
       "#T_11a06_row5_col3 {\n",
       "  background-color: #6e90f2;\n",
       "  color: #f1f1f1;\n",
       "}\n",
       "</style>\n",
       "<table id=\"T_11a06\">\n",
       "  <thead>\n",
       "    <tr>\n",
       "      <th class=\"blank level0\" >&nbsp;</th>\n",
       "      <th id=\"T_11a06_level0_col0\" class=\"col_heading level0 col0\" >Age</th>\n",
       "      <th id=\"T_11a06_level0_col1\" class=\"col_heading level0 col1\" >RestingBP</th>\n",
       "      <th id=\"T_11a06_level0_col2\" class=\"col_heading level0 col2\" >Cholesterol</th>\n",
       "      <th id=\"T_11a06_level0_col3\" class=\"col_heading level0 col3\" >FastingBS</th>\n",
       "      <th id=\"T_11a06_level0_col4\" class=\"col_heading level0 col4\" >MaxHR</th>\n",
       "      <th id=\"T_11a06_level0_col5\" class=\"col_heading level0 col5\" >Oldpeak</th>\n",
       "    </tr>\n",
       "  </thead>\n",
       "  <tbody>\n",
       "    <tr>\n",
       "      <th id=\"T_11a06_level0_row0\" class=\"row_heading level0 row0\" >Age</th>\n",
       "      <td id=\"T_11a06_row0_col0\" class=\"data row0 col0\" >1.000000</td>\n",
       "      <td id=\"T_11a06_row0_col1\" class=\"data row0 col1\" >0.263084</td>\n",
       "      <td id=\"T_11a06_row0_col2\" class=\"data row0 col2\" >0.006513</td>\n",
       "      <td id=\"T_11a06_row0_col3\" class=\"data row0 col3\" >0.198170</td>\n",
       "      <td id=\"T_11a06_row0_col4\" class=\"data row0 col4\" >-0.382280</td>\n",
       "      <td id=\"T_11a06_row0_col5\" class=\"data row0 col5\" >0.258563</td>\n",
       "    </tr>\n",
       "    <tr>\n",
       "      <th id=\"T_11a06_level0_row1\" class=\"row_heading level0 row1\" >RestingBP</th>\n",
       "      <td id=\"T_11a06_row1_col0\" class=\"data row1 col0\" >0.263084</td>\n",
       "      <td id=\"T_11a06_row1_col1\" class=\"data row1 col1\" >1.000000</td>\n",
       "      <td id=\"T_11a06_row1_col2\" class=\"data row1 col2\" >0.096541</td>\n",
       "      <td id=\"T_11a06_row1_col3\" class=\"data row1 col3\" >0.067823</td>\n",
       "      <td id=\"T_11a06_row1_col4\" class=\"data row1 col4\" >-0.109693</td>\n",
       "      <td id=\"T_11a06_row1_col5\" class=\"data row1 col5\" >0.174252</td>\n",
       "    </tr>\n",
       "    <tr>\n",
       "      <th id=\"T_11a06_level0_row2\" class=\"row_heading level0 row2\" >Cholesterol</th>\n",
       "      <td id=\"T_11a06_row2_col0\" class=\"data row2 col0\" >0.006513</td>\n",
       "      <td id=\"T_11a06_row2_col1\" class=\"data row2 col1\" >0.096541</td>\n",
       "      <td id=\"T_11a06_row2_col2\" class=\"data row2 col2\" >1.000000</td>\n",
       "      <td id=\"T_11a06_row2_col3\" class=\"data row2 col3\" >-0.062391</td>\n",
       "      <td id=\"T_11a06_row2_col4\" class=\"data row2 col4\" >0.073198</td>\n",
       "      <td id=\"T_11a06_row2_col5\" class=\"data row2 col5\" >0.059568</td>\n",
       "    </tr>\n",
       "    <tr>\n",
       "      <th id=\"T_11a06_level0_row3\" class=\"row_heading level0 row3\" >FastingBS</th>\n",
       "      <td id=\"T_11a06_row3_col0\" class=\"data row3 col0\" >0.198170</td>\n",
       "      <td id=\"T_11a06_row3_col1\" class=\"data row3 col1\" >0.067823</td>\n",
       "      <td id=\"T_11a06_row3_col2\" class=\"data row3 col2\" >-0.062391</td>\n",
       "      <td id=\"T_11a06_row3_col3\" class=\"data row3 col3\" >1.000000</td>\n",
       "      <td id=\"T_11a06_row3_col4\" class=\"data row3 col4\" >-0.131067</td>\n",
       "      <td id=\"T_11a06_row3_col5\" class=\"data row3 col5\" >0.053062</td>\n",
       "    </tr>\n",
       "    <tr>\n",
       "      <th id=\"T_11a06_level0_row4\" class=\"row_heading level0 row4\" >MaxHR</th>\n",
       "      <td id=\"T_11a06_row4_col0\" class=\"data row4 col0\" >-0.382280</td>\n",
       "      <td id=\"T_11a06_row4_col1\" class=\"data row4 col1\" >-0.109693</td>\n",
       "      <td id=\"T_11a06_row4_col2\" class=\"data row4 col2\" >0.073198</td>\n",
       "      <td id=\"T_11a06_row4_col3\" class=\"data row4 col3\" >-0.131067</td>\n",
       "      <td id=\"T_11a06_row4_col4\" class=\"data row4 col4\" >1.000000</td>\n",
       "      <td id=\"T_11a06_row4_col5\" class=\"data row4 col5\" >-0.161213</td>\n",
       "    </tr>\n",
       "    <tr>\n",
       "      <th id=\"T_11a06_level0_row5\" class=\"row_heading level0 row5\" >Oldpeak</th>\n",
       "      <td id=\"T_11a06_row5_col0\" class=\"data row5 col0\" >0.258563</td>\n",
       "      <td id=\"T_11a06_row5_col1\" class=\"data row5 col1\" >0.174252</td>\n",
       "      <td id=\"T_11a06_row5_col2\" class=\"data row5 col2\" >0.059568</td>\n",
       "      <td id=\"T_11a06_row5_col3\" class=\"data row5 col3\" >0.053062</td>\n",
       "      <td id=\"T_11a06_row5_col4\" class=\"data row5 col4\" >-0.161213</td>\n",
       "      <td id=\"T_11a06_row5_col5\" class=\"data row5 col5\" >1.000000</td>\n",
       "    </tr>\n",
       "  </tbody>\n",
       "</table>\n"
      ],
      "text/plain": [
       "<pandas.io.formats.style.Styler at 0x7fc06bb4f3d0>"
      ]
     },
     "execution_count": 23,
     "metadata": {},
     "output_type": "execute_result"
    }
   ],
   "source": [
    "corr=df1.drop(columns=['HeartDisease']).corr(numeric_only=True)\n",
    "corr.style.background_gradient(cmap='coolwarm')"
   ]
  },
  {
   "cell_type": "markdown",
   "id": "3f664098-636a-411b-9e95-5f39200171d7",
   "metadata": {},
   "source": [
    "### categorical columns "
   ]
  },
  {
   "cell_type": "code",
   "execution_count": 24,
   "id": "ab10bfe7-c69c-4ca6-9cd5-dbd56e638853",
   "metadata": {},
   "outputs": [
    {
     "data": {
      "text/plain": [
       "Age                 int64\n",
       "Sex                object\n",
       "ChestPainType      object\n",
       "RestingBP           int64\n",
       "Cholesterol       float64\n",
       "FastingBS           int64\n",
       "RestingECG         object\n",
       "MaxHR               int64\n",
       "ExerciseAngina     object\n",
       "Oldpeak           float64\n",
       "ST_Slope           object\n",
       "HeartDisease        int64\n",
       "dtype: object"
      ]
     },
     "execution_count": 24,
     "metadata": {},
     "output_type": "execute_result"
    }
   ],
   "source": [
    "df1.dtypes"
   ]
  },
  {
   "cell_type": "code",
   "execution_count": 25,
   "id": "4f7eb9c8-30ed-41dc-9081-251fbabb9e39",
   "metadata": {},
   "outputs": [
    {
     "name": "stdout",
     "output_type": "stream",
     "text": [
      "Sex: \n",
      "['M' 'F']\n",
      "ChestPainType: \n",
      "['ATA' 'NAP' 'ASY' 'TA']\n",
      "RestingECG: \n",
      "['Normal' 'ST' 'LVH']\n",
      "ExerciseAngina: \n",
      "['N' 'Y']\n",
      "ST_Slope: \n",
      "['Up' 'Flat' 'Down']\n"
     ]
    }
   ],
   "source": [
    "cat_lst = df1.select_dtypes(include=['object']).columns\n",
    "\n",
    "for cat in cat_lst:\n",
    "    print(cat+': ')\n",
    "    print(df1[cat].unique())"
   ]
  },
  {
   "cell_type": "code",
   "execution_count": 26,
   "id": "b4ff935f-259b-48d0-86e4-9703a6b07f39",
   "metadata": {},
   "outputs": [],
   "source": [
    "cols1 = df1.select_dtypes(include=['object']).columns"
   ]
  },
  {
   "cell_type": "code",
   "execution_count": 27,
   "id": "b1fdff0d-62c2-4cce-bef4-b5f1cffbcea0",
   "metadata": {},
   "outputs": [
    {
     "name": "stderr",
     "output_type": "stream",
     "text": [
      "/tmp/ipykernel_12503/2279108688.py:1: SettingWithCopyWarning: \n",
      "A value is trying to be set on a copy of a slice from a DataFrame.\n",
      "Try using .loc[row_indexer,col_indexer] = value instead\n",
      "\n",
      "See the caveats in the documentation: https://pandas.pydata.org/pandas-docs/stable/user_guide/indexing.html#returning-a-view-versus-a-copy\n",
      "  df1[cols1]=df1[cols1].astype('category')\n"
     ]
    }
   ],
   "source": [
    "df1[cols1]=df1[cols1].astype('category')"
   ]
  },
  {
   "cell_type": "code",
   "execution_count": 28,
   "id": "9f0b2f7f-520a-442a-b494-b01bfdf90ce2",
   "metadata": {},
   "outputs": [
    {
     "data": {
      "text/plain": [
       "Age                  int64\n",
       "Sex               category\n",
       "ChestPainType     category\n",
       "RestingBP            int64\n",
       "Cholesterol        float64\n",
       "FastingBS            int64\n",
       "RestingECG        category\n",
       "MaxHR                int64\n",
       "ExerciseAngina    category\n",
       "Oldpeak            float64\n",
       "ST_Slope          category\n",
       "HeartDisease         int64\n",
       "dtype: object"
      ]
     },
     "execution_count": 28,
     "metadata": {},
     "output_type": "execute_result"
    }
   ],
   "source": [
    "df1.dtypes"
   ]
  },
  {
   "cell_type": "code",
   "execution_count": 29,
   "id": "d09a7a2a-a0b1-48f9-a0d4-0a4d0e75b21a",
   "metadata": {},
   "outputs": [],
   "source": [
    "# converting the categorical columns to uint8 since they are all low positive integer values (values: 0 & 1)\n",
    "# df.FastingBS is also a categorical column (values: 0 & 1)"
   ]
  },
  {
   "cell_type": "code",
   "execution_count": 30,
   "id": "7fd3ae12-2180-431b-96f1-0213e33fb5f9",
   "metadata": {},
   "outputs": [
    {
     "data": {
      "text/html": [
       "<div>\n",
       "<style scoped>\n",
       "    .dataframe tbody tr th:only-of-type {\n",
       "        vertical-align: middle;\n",
       "    }\n",
       "\n",
       "    .dataframe tbody tr th {\n",
       "        vertical-align: top;\n",
       "    }\n",
       "\n",
       "    .dataframe thead th {\n",
       "        text-align: right;\n",
       "    }\n",
       "</style>\n",
       "<table border=\"1\" class=\"dataframe\">\n",
       "  <thead>\n",
       "    <tr style=\"text-align: right;\">\n",
       "      <th></th>\n",
       "      <th>Age</th>\n",
       "      <th>RestingBP</th>\n",
       "      <th>Cholesterol</th>\n",
       "      <th>FastingBS</th>\n",
       "      <th>MaxHR</th>\n",
       "      <th>Oldpeak</th>\n",
       "      <th>HeartDisease</th>\n",
       "      <th>Sex_M</th>\n",
       "      <th>ChestPainType_ATA</th>\n",
       "      <th>ChestPainType_NAP</th>\n",
       "      <th>ChestPainType_TA</th>\n",
       "      <th>RestingECG_Normal</th>\n",
       "      <th>RestingECG_ST</th>\n",
       "      <th>ExerciseAngina_Y</th>\n",
       "      <th>ST_Slope_Flat</th>\n",
       "      <th>ST_Slope_Up</th>\n",
       "    </tr>\n",
       "  </thead>\n",
       "  <tbody>\n",
       "    <tr>\n",
       "      <th>0</th>\n",
       "      <td>40</td>\n",
       "      <td>140</td>\n",
       "      <td>289.0</td>\n",
       "      <td>0</td>\n",
       "      <td>172</td>\n",
       "      <td>0.0</td>\n",
       "      <td>0</td>\n",
       "      <td>1</td>\n",
       "      <td>1</td>\n",
       "      <td>0</td>\n",
       "      <td>0</td>\n",
       "      <td>1</td>\n",
       "      <td>0</td>\n",
       "      <td>0</td>\n",
       "      <td>0</td>\n",
       "      <td>1</td>\n",
       "    </tr>\n",
       "    <tr>\n",
       "      <th>1</th>\n",
       "      <td>49</td>\n",
       "      <td>160</td>\n",
       "      <td>180.0</td>\n",
       "      <td>0</td>\n",
       "      <td>156</td>\n",
       "      <td>1.0</td>\n",
       "      <td>1</td>\n",
       "      <td>0</td>\n",
       "      <td>0</td>\n",
       "      <td>1</td>\n",
       "      <td>0</td>\n",
       "      <td>1</td>\n",
       "      <td>0</td>\n",
       "      <td>0</td>\n",
       "      <td>1</td>\n",
       "      <td>0</td>\n",
       "    </tr>\n",
       "    <tr>\n",
       "      <th>2</th>\n",
       "      <td>37</td>\n",
       "      <td>130</td>\n",
       "      <td>283.0</td>\n",
       "      <td>0</td>\n",
       "      <td>98</td>\n",
       "      <td>0.0</td>\n",
       "      <td>0</td>\n",
       "      <td>1</td>\n",
       "      <td>1</td>\n",
       "      <td>0</td>\n",
       "      <td>0</td>\n",
       "      <td>0</td>\n",
       "      <td>1</td>\n",
       "      <td>0</td>\n",
       "      <td>0</td>\n",
       "      <td>1</td>\n",
       "    </tr>\n",
       "    <tr>\n",
       "      <th>3</th>\n",
       "      <td>48</td>\n",
       "      <td>138</td>\n",
       "      <td>214.0</td>\n",
       "      <td>0</td>\n",
       "      <td>108</td>\n",
       "      <td>1.5</td>\n",
       "      <td>1</td>\n",
       "      <td>0</td>\n",
       "      <td>0</td>\n",
       "      <td>0</td>\n",
       "      <td>0</td>\n",
       "      <td>1</td>\n",
       "      <td>0</td>\n",
       "      <td>1</td>\n",
       "      <td>1</td>\n",
       "      <td>0</td>\n",
       "    </tr>\n",
       "    <tr>\n",
       "      <th>4</th>\n",
       "      <td>54</td>\n",
       "      <td>150</td>\n",
       "      <td>195.0</td>\n",
       "      <td>0</td>\n",
       "      <td>122</td>\n",
       "      <td>0.0</td>\n",
       "      <td>0</td>\n",
       "      <td>1</td>\n",
       "      <td>0</td>\n",
       "      <td>1</td>\n",
       "      <td>0</td>\n",
       "      <td>1</td>\n",
       "      <td>0</td>\n",
       "      <td>0</td>\n",
       "      <td>0</td>\n",
       "      <td>1</td>\n",
       "    </tr>\n",
       "    <tr>\n",
       "      <th>...</th>\n",
       "      <td>...</td>\n",
       "      <td>...</td>\n",
       "      <td>...</td>\n",
       "      <td>...</td>\n",
       "      <td>...</td>\n",
       "      <td>...</td>\n",
       "      <td>...</td>\n",
       "      <td>...</td>\n",
       "      <td>...</td>\n",
       "      <td>...</td>\n",
       "      <td>...</td>\n",
       "      <td>...</td>\n",
       "      <td>...</td>\n",
       "      <td>...</td>\n",
       "      <td>...</td>\n",
       "      <td>...</td>\n",
       "    </tr>\n",
       "    <tr>\n",
       "      <th>913</th>\n",
       "      <td>45</td>\n",
       "      <td>110</td>\n",
       "      <td>264.0</td>\n",
       "      <td>0</td>\n",
       "      <td>132</td>\n",
       "      <td>1.2</td>\n",
       "      <td>1</td>\n",
       "      <td>1</td>\n",
       "      <td>0</td>\n",
       "      <td>0</td>\n",
       "      <td>1</td>\n",
       "      <td>1</td>\n",
       "      <td>0</td>\n",
       "      <td>0</td>\n",
       "      <td>1</td>\n",
       "      <td>0</td>\n",
       "    </tr>\n",
       "    <tr>\n",
       "      <th>914</th>\n",
       "      <td>68</td>\n",
       "      <td>144</td>\n",
       "      <td>193.0</td>\n",
       "      <td>1</td>\n",
       "      <td>141</td>\n",
       "      <td>3.4</td>\n",
       "      <td>1</td>\n",
       "      <td>1</td>\n",
       "      <td>0</td>\n",
       "      <td>0</td>\n",
       "      <td>0</td>\n",
       "      <td>1</td>\n",
       "      <td>0</td>\n",
       "      <td>0</td>\n",
       "      <td>1</td>\n",
       "      <td>0</td>\n",
       "    </tr>\n",
       "    <tr>\n",
       "      <th>915</th>\n",
       "      <td>57</td>\n",
       "      <td>130</td>\n",
       "      <td>131.0</td>\n",
       "      <td>0</td>\n",
       "      <td>115</td>\n",
       "      <td>1.2</td>\n",
       "      <td>1</td>\n",
       "      <td>1</td>\n",
       "      <td>0</td>\n",
       "      <td>0</td>\n",
       "      <td>0</td>\n",
       "      <td>1</td>\n",
       "      <td>0</td>\n",
       "      <td>1</td>\n",
       "      <td>1</td>\n",
       "      <td>0</td>\n",
       "    </tr>\n",
       "    <tr>\n",
       "      <th>916</th>\n",
       "      <td>57</td>\n",
       "      <td>130</td>\n",
       "      <td>236.0</td>\n",
       "      <td>0</td>\n",
       "      <td>174</td>\n",
       "      <td>0.0</td>\n",
       "      <td>1</td>\n",
       "      <td>0</td>\n",
       "      <td>1</td>\n",
       "      <td>0</td>\n",
       "      <td>0</td>\n",
       "      <td>0</td>\n",
       "      <td>0</td>\n",
       "      <td>0</td>\n",
       "      <td>1</td>\n",
       "      <td>0</td>\n",
       "    </tr>\n",
       "    <tr>\n",
       "      <th>917</th>\n",
       "      <td>38</td>\n",
       "      <td>138</td>\n",
       "      <td>175.0</td>\n",
       "      <td>0</td>\n",
       "      <td>173</td>\n",
       "      <td>0.0</td>\n",
       "      <td>0</td>\n",
       "      <td>1</td>\n",
       "      <td>0</td>\n",
       "      <td>1</td>\n",
       "      <td>0</td>\n",
       "      <td>1</td>\n",
       "      <td>0</td>\n",
       "      <td>0</td>\n",
       "      <td>0</td>\n",
       "      <td>1</td>\n",
       "    </tr>\n",
       "  </tbody>\n",
       "</table>\n",
       "<p>917 rows × 16 columns</p>\n",
       "</div>"
      ],
      "text/plain": [
       "     Age  RestingBP  Cholesterol  FastingBS  MaxHR  Oldpeak  HeartDisease  \\\n",
       "0     40        140        289.0          0    172      0.0             0   \n",
       "1     49        160        180.0          0    156      1.0             1   \n",
       "2     37        130        283.0          0     98      0.0             0   \n",
       "3     48        138        214.0          0    108      1.5             1   \n",
       "4     54        150        195.0          0    122      0.0             0   \n",
       "..   ...        ...          ...        ...    ...      ...           ...   \n",
       "913   45        110        264.0          0    132      1.2             1   \n",
       "914   68        144        193.0          1    141      3.4             1   \n",
       "915   57        130        131.0          0    115      1.2             1   \n",
       "916   57        130        236.0          0    174      0.0             1   \n",
       "917   38        138        175.0          0    173      0.0             0   \n",
       "\n",
       "     Sex_M  ChestPainType_ATA  ChestPainType_NAP  ChestPainType_TA  \\\n",
       "0        1                  1                  0                 0   \n",
       "1        0                  0                  1                 0   \n",
       "2        1                  1                  0                 0   \n",
       "3        0                  0                  0                 0   \n",
       "4        1                  0                  1                 0   \n",
       "..     ...                ...                ...               ...   \n",
       "913      1                  0                  0                 1   \n",
       "914      1                  0                  0                 0   \n",
       "915      1                  0                  0                 0   \n",
       "916      0                  1                  0                 0   \n",
       "917      1                  0                  1                 0   \n",
       "\n",
       "     RestingECG_Normal  RestingECG_ST  ExerciseAngina_Y  ST_Slope_Flat  \\\n",
       "0                    1              0                 0              0   \n",
       "1                    1              0                 0              1   \n",
       "2                    0              1                 0              0   \n",
       "3                    1              0                 1              1   \n",
       "4                    1              0                 0              0   \n",
       "..                 ...            ...               ...            ...   \n",
       "913                  1              0                 0              1   \n",
       "914                  1              0                 0              1   \n",
       "915                  1              0                 1              1   \n",
       "916                  0              0                 0              1   \n",
       "917                  1              0                 0              0   \n",
       "\n",
       "     ST_Slope_Up  \n",
       "0              1  \n",
       "1              0  \n",
       "2              1  \n",
       "3              0  \n",
       "4              1  \n",
       "..           ...  \n",
       "913            0  \n",
       "914            0  \n",
       "915            0  \n",
       "916            0  \n",
       "917            1  \n",
       "\n",
       "[917 rows x 16 columns]"
      ]
     },
     "execution_count": 30,
     "metadata": {},
     "output_type": "execute_result"
    }
   ],
   "source": [
    "df2=pd.get_dummies(df1,drop_first=True,dtype=np.uint8)\n",
    "df2.FastingBS=df2.FastingBS.astype(np.uint8)\n",
    "df2.HeartDisease=df2.HeartDisease.astype(np.uint8)\n",
    "\n",
    "df2"
   ]
  },
  {
   "cell_type": "code",
   "execution_count": 31,
   "id": "0528c66d-2b20-499d-bc0c-a656c2379e0d",
   "metadata": {},
   "outputs": [],
   "source": [
    "# the output column got misplaced during pd.get_dummies()"
   ]
  },
  {
   "cell_type": "code",
   "execution_count": 32,
   "id": "6214e740-727b-4e6d-b338-3ca69a73c17b",
   "metadata": {},
   "outputs": [],
   "source": [
    "col=df2.HeartDisease\n",
    "df2.drop(columns='HeartDisease',inplace=True)\n",
    "df2['HeartDisease']=col"
   ]
  },
  {
   "cell_type": "code",
   "execution_count": 33,
   "id": "1549de4b-9ad0-4549-beee-65259adc4f2a",
   "metadata": {},
   "outputs": [
    {
     "data": {
      "text/plain": [
       "(917, 16)"
      ]
     },
     "execution_count": 33,
     "metadata": {},
     "output_type": "execute_result"
    }
   ],
   "source": [
    "df2.shape"
   ]
  },
  {
   "cell_type": "code",
   "execution_count": 34,
   "id": "9d744773-2aca-4571-a617-8587486f85cc",
   "metadata": {},
   "outputs": [
    {
     "data": {
      "text/html": [
       "<div>\n",
       "<style scoped>\n",
       "    .dataframe tbody tr th:only-of-type {\n",
       "        vertical-align: middle;\n",
       "    }\n",
       "\n",
       "    .dataframe tbody tr th {\n",
       "        vertical-align: top;\n",
       "    }\n",
       "\n",
       "    .dataframe thead th {\n",
       "        text-align: right;\n",
       "    }\n",
       "</style>\n",
       "<table border=\"1\" class=\"dataframe\">\n",
       "  <thead>\n",
       "    <tr style=\"text-align: right;\">\n",
       "      <th></th>\n",
       "      <th>Age</th>\n",
       "      <th>RestingBP</th>\n",
       "      <th>Cholesterol</th>\n",
       "      <th>FastingBS</th>\n",
       "      <th>MaxHR</th>\n",
       "      <th>Oldpeak</th>\n",
       "      <th>Sex_M</th>\n",
       "      <th>ChestPainType_ATA</th>\n",
       "      <th>ChestPainType_NAP</th>\n",
       "      <th>ChestPainType_TA</th>\n",
       "      <th>RestingECG_Normal</th>\n",
       "      <th>RestingECG_ST</th>\n",
       "      <th>ExerciseAngina_Y</th>\n",
       "      <th>ST_Slope_Flat</th>\n",
       "      <th>ST_Slope_Up</th>\n",
       "      <th>HeartDisease</th>\n",
       "    </tr>\n",
       "  </thead>\n",
       "  <tbody>\n",
       "    <tr>\n",
       "      <th>0</th>\n",
       "      <td>40</td>\n",
       "      <td>140</td>\n",
       "      <td>289.0</td>\n",
       "      <td>0</td>\n",
       "      <td>172</td>\n",
       "      <td>0.0</td>\n",
       "      <td>1</td>\n",
       "      <td>1</td>\n",
       "      <td>0</td>\n",
       "      <td>0</td>\n",
       "      <td>1</td>\n",
       "      <td>0</td>\n",
       "      <td>0</td>\n",
       "      <td>0</td>\n",
       "      <td>1</td>\n",
       "      <td>0</td>\n",
       "    </tr>\n",
       "    <tr>\n",
       "      <th>1</th>\n",
       "      <td>49</td>\n",
       "      <td>160</td>\n",
       "      <td>180.0</td>\n",
       "      <td>0</td>\n",
       "      <td>156</td>\n",
       "      <td>1.0</td>\n",
       "      <td>0</td>\n",
       "      <td>0</td>\n",
       "      <td>1</td>\n",
       "      <td>0</td>\n",
       "      <td>1</td>\n",
       "      <td>0</td>\n",
       "      <td>0</td>\n",
       "      <td>1</td>\n",
       "      <td>0</td>\n",
       "      <td>1</td>\n",
       "    </tr>\n",
       "    <tr>\n",
       "      <th>2</th>\n",
       "      <td>37</td>\n",
       "      <td>130</td>\n",
       "      <td>283.0</td>\n",
       "      <td>0</td>\n",
       "      <td>98</td>\n",
       "      <td>0.0</td>\n",
       "      <td>1</td>\n",
       "      <td>1</td>\n",
       "      <td>0</td>\n",
       "      <td>0</td>\n",
       "      <td>0</td>\n",
       "      <td>1</td>\n",
       "      <td>0</td>\n",
       "      <td>0</td>\n",
       "      <td>1</td>\n",
       "      <td>0</td>\n",
       "    </tr>\n",
       "    <tr>\n",
       "      <th>3</th>\n",
       "      <td>48</td>\n",
       "      <td>138</td>\n",
       "      <td>214.0</td>\n",
       "      <td>0</td>\n",
       "      <td>108</td>\n",
       "      <td>1.5</td>\n",
       "      <td>0</td>\n",
       "      <td>0</td>\n",
       "      <td>0</td>\n",
       "      <td>0</td>\n",
       "      <td>1</td>\n",
       "      <td>0</td>\n",
       "      <td>1</td>\n",
       "      <td>1</td>\n",
       "      <td>0</td>\n",
       "      <td>1</td>\n",
       "    </tr>\n",
       "    <tr>\n",
       "      <th>4</th>\n",
       "      <td>54</td>\n",
       "      <td>150</td>\n",
       "      <td>195.0</td>\n",
       "      <td>0</td>\n",
       "      <td>122</td>\n",
       "      <td>0.0</td>\n",
       "      <td>1</td>\n",
       "      <td>0</td>\n",
       "      <td>1</td>\n",
       "      <td>0</td>\n",
       "      <td>1</td>\n",
       "      <td>0</td>\n",
       "      <td>0</td>\n",
       "      <td>0</td>\n",
       "      <td>1</td>\n",
       "      <td>0</td>\n",
       "    </tr>\n",
       "  </tbody>\n",
       "</table>\n",
       "</div>"
      ],
      "text/plain": [
       "   Age  RestingBP  Cholesterol  FastingBS  MaxHR  Oldpeak  Sex_M  \\\n",
       "0   40        140        289.0          0    172      0.0      1   \n",
       "1   49        160        180.0          0    156      1.0      0   \n",
       "2   37        130        283.0          0     98      0.0      1   \n",
       "3   48        138        214.0          0    108      1.5      0   \n",
       "4   54        150        195.0          0    122      0.0      1   \n",
       "\n",
       "   ChestPainType_ATA  ChestPainType_NAP  ChestPainType_TA  RestingECG_Normal  \\\n",
       "0                  1                  0                 0                  1   \n",
       "1                  0                  1                 0                  1   \n",
       "2                  1                  0                 0                  0   \n",
       "3                  0                  0                 0                  1   \n",
       "4                  0                  1                 0                  1   \n",
       "\n",
       "   RestingECG_ST  ExerciseAngina_Y  ST_Slope_Flat  ST_Slope_Up  HeartDisease  \n",
       "0              0                 0              0            1             0  \n",
       "1              0                 0              1            0             1  \n",
       "2              1                 0              0            1             0  \n",
       "3              0                 1              1            0             1  \n",
       "4              0                 0              0            1             0  "
      ]
     },
     "execution_count": 34,
     "metadata": {},
     "output_type": "execute_result"
    }
   ],
   "source": [
    "df2.head()"
   ]
  },
  {
   "cell_type": "code",
   "execution_count": 35,
   "id": "e87c1a22-bc8c-4b8e-8e91-065db307be71",
   "metadata": {},
   "outputs": [],
   "source": [
    "# exporting df2 for testing purpose during app development \n",
    "\n",
    "df2.to_csv('test_dataset.csv',index=False)"
   ]
  },
  {
   "cell_type": "markdown",
   "id": "d66f0a4d-bcc3-4a42-b822-4f8f1edb8cec",
   "metadata": {},
   "source": [
    "### comparison of different algorithms "
   ]
  },
  {
   "cell_type": "code",
   "execution_count": 36,
   "id": "9392ef5f-f6a0-4bde-b65c-5d93fb4cf70e",
   "metadata": {},
   "outputs": [],
   "source": [
    "X = df2.iloc[:,:-1]\n",
    "Y = df2.iloc[:,-1]"
   ]
  },
  {
   "cell_type": "code",
   "execution_count": 37,
   "id": "9af4509b-f71c-46db-a3a9-5ec09f8d0455",
   "metadata": {},
   "outputs": [],
   "source": [
    "models = []\n",
    "\n",
    "models.append(('LR', LogisticRegression()))\n",
    "models.append(('LDA', LinearDiscriminantAnalysis()))\n",
    "models.append(('KNC', KNeighborsClassifier()))\n",
    "models.append(('DTC', DecisionTreeClassifier()))\n",
    "models.append(('NB', GaussianNB()))\n",
    "models.append(('SVM', SVC()))"
   ]
  },
  {
   "cell_type": "code",
   "execution_count": 38,
   "id": "14822076-1842-4516-a42f-8c31edd3bd72",
   "metadata": {},
   "outputs": [
    {
     "name": "stderr",
     "output_type": "stream",
     "text": [
      "/home/bandicoot4218/.local/lib/python3.8/site-packages/sklearn/linear_model/_logistic.py:460: ConvergenceWarning: lbfgs failed to converge (status=1):\n",
      "STOP: TOTAL NO. of ITERATIONS REACHED LIMIT.\n",
      "\n",
      "Increase the number of iterations (max_iter) or scale the data as shown in:\n",
      "    https://scikit-learn.org/stable/modules/preprocessing.html\n",
      "Please also refer to the documentation for alternative solver options:\n",
      "    https://scikit-learn.org/stable/modules/linear_model.html#logistic-regression\n",
      "  n_iter_i = _check_optimize_result(\n",
      "/home/bandicoot4218/.local/lib/python3.8/site-packages/sklearn/linear_model/_logistic.py:460: ConvergenceWarning: lbfgs failed to converge (status=1):\n",
      "STOP: TOTAL NO. of ITERATIONS REACHED LIMIT.\n",
      "\n",
      "Increase the number of iterations (max_iter) or scale the data as shown in:\n",
      "    https://scikit-learn.org/stable/modules/preprocessing.html\n",
      "Please also refer to the documentation for alternative solver options:\n",
      "    https://scikit-learn.org/stable/modules/linear_model.html#logistic-regression\n",
      "  n_iter_i = _check_optimize_result(\n",
      "/home/bandicoot4218/.local/lib/python3.8/site-packages/sklearn/linear_model/_logistic.py:460: ConvergenceWarning: lbfgs failed to converge (status=1):\n",
      "STOP: TOTAL NO. of ITERATIONS REACHED LIMIT.\n",
      "\n",
      "Increase the number of iterations (max_iter) or scale the data as shown in:\n",
      "    https://scikit-learn.org/stable/modules/preprocessing.html\n",
      "Please also refer to the documentation for alternative solver options:\n",
      "    https://scikit-learn.org/stable/modules/linear_model.html#logistic-regression\n",
      "  n_iter_i = _check_optimize_result(\n",
      "/home/bandicoot4218/.local/lib/python3.8/site-packages/sklearn/linear_model/_logistic.py:460: ConvergenceWarning: lbfgs failed to converge (status=1):\n",
      "STOP: TOTAL NO. of ITERATIONS REACHED LIMIT.\n",
      "\n",
      "Increase the number of iterations (max_iter) or scale the data as shown in:\n",
      "    https://scikit-learn.org/stable/modules/preprocessing.html\n",
      "Please also refer to the documentation for alternative solver options:\n",
      "    https://scikit-learn.org/stable/modules/linear_model.html#logistic-regression\n",
      "  n_iter_i = _check_optimize_result(\n",
      "/home/bandicoot4218/.local/lib/python3.8/site-packages/sklearn/linear_model/_logistic.py:460: ConvergenceWarning: lbfgs failed to converge (status=1):\n",
      "STOP: TOTAL NO. of ITERATIONS REACHED LIMIT.\n",
      "\n",
      "Increase the number of iterations (max_iter) or scale the data as shown in:\n",
      "    https://scikit-learn.org/stable/modules/preprocessing.html\n",
      "Please also refer to the documentation for alternative solver options:\n",
      "    https://scikit-learn.org/stable/modules/linear_model.html#logistic-regression\n",
      "  n_iter_i = _check_optimize_result(\n",
      "/home/bandicoot4218/.local/lib/python3.8/site-packages/sklearn/linear_model/_logistic.py:460: ConvergenceWarning: lbfgs failed to converge (status=1):\n",
      "STOP: TOTAL NO. of ITERATIONS REACHED LIMIT.\n",
      "\n",
      "Increase the number of iterations (max_iter) or scale the data as shown in:\n",
      "    https://scikit-learn.org/stable/modules/preprocessing.html\n",
      "Please also refer to the documentation for alternative solver options:\n",
      "    https://scikit-learn.org/stable/modules/linear_model.html#logistic-regression\n",
      "  n_iter_i = _check_optimize_result(\n",
      "/home/bandicoot4218/.local/lib/python3.8/site-packages/sklearn/linear_model/_logistic.py:460: ConvergenceWarning: lbfgs failed to converge (status=1):\n",
      "STOP: TOTAL NO. of ITERATIONS REACHED LIMIT.\n",
      "\n",
      "Increase the number of iterations (max_iter) or scale the data as shown in:\n",
      "    https://scikit-learn.org/stable/modules/preprocessing.html\n",
      "Please also refer to the documentation for alternative solver options:\n",
      "    https://scikit-learn.org/stable/modules/linear_model.html#logistic-regression\n",
      "  n_iter_i = _check_optimize_result(\n",
      "/home/bandicoot4218/.local/lib/python3.8/site-packages/sklearn/linear_model/_logistic.py:460: ConvergenceWarning: lbfgs failed to converge (status=1):\n",
      "STOP: TOTAL NO. of ITERATIONS REACHED LIMIT.\n",
      "\n",
      "Increase the number of iterations (max_iter) or scale the data as shown in:\n",
      "    https://scikit-learn.org/stable/modules/preprocessing.html\n",
      "Please also refer to the documentation for alternative solver options:\n",
      "    https://scikit-learn.org/stable/modules/linear_model.html#logistic-regression\n",
      "  n_iter_i = _check_optimize_result(\n",
      "/home/bandicoot4218/.local/lib/python3.8/site-packages/sklearn/linear_model/_logistic.py:460: ConvergenceWarning: lbfgs failed to converge (status=1):\n",
      "STOP: TOTAL NO. of ITERATIONS REACHED LIMIT.\n",
      "\n",
      "Increase the number of iterations (max_iter) or scale the data as shown in:\n",
      "    https://scikit-learn.org/stable/modules/preprocessing.html\n",
      "Please also refer to the documentation for alternative solver options:\n",
      "    https://scikit-learn.org/stable/modules/linear_model.html#logistic-regression\n",
      "  n_iter_i = _check_optimize_result(\n",
      "/home/bandicoot4218/.local/lib/python3.8/site-packages/sklearn/linear_model/_logistic.py:460: ConvergenceWarning: lbfgs failed to converge (status=1):\n",
      "STOP: TOTAL NO. of ITERATIONS REACHED LIMIT.\n",
      "\n",
      "Increase the number of iterations (max_iter) or scale the data as shown in:\n",
      "    https://scikit-learn.org/stable/modules/preprocessing.html\n",
      "Please also refer to the documentation for alternative solver options:\n",
      "    https://scikit-learn.org/stable/modules/linear_model.html#logistic-regression\n",
      "  n_iter_i = _check_optimize_result(\n"
     ]
    },
    {
     "name": "stdout",
     "output_type": "stream",
     "text": [
      "LR : 84.38485427615862\n",
      "LDA : 84.60105112279027\n",
      "KNC : 66.61729574773052\n",
      "DTC : 76.63760152890589\n",
      "NB : 84.81963688485428\n",
      "SVM : 66.85260391782131\n"
     ]
    }
   ],
   "source": [
    "results = []           #for boxplot \n",
    "names = []             #for boxplot\n",
    "\n",
    "for name,model in models:\n",
    "    kfold = KFold(n_splits=10)\n",
    "    cv_results = cross_val_score(model,X,Y,cv=kfold)\n",
    "    results.append(cv_results)\n",
    "    names.append(name)\n",
    "    print(name+' : '+str(cv_results.mean()*100))"
   ]
  },
  {
   "cell_type": "code",
   "execution_count": 39,
   "id": "cd87f846-c007-4d36-a9ef-94ef234f8254",
   "metadata": {},
   "outputs": [
    {
     "data": {
      "image/png": "[encoded data removed]",
      "text/plain": [
       "<Figure size 640x480 with 1 Axes>"
      ]
     },
     "metadata": {},
     "output_type": "display_data"
    }
   ],
   "source": [
    "# boxplot\n",
    "\n",
    "fig = plt.figure()\n",
    "fig.suptitle('Algorithm Comparison')\n",
    "ax = fig.add_subplot()\n",
    "plt.boxplot(results);\n",
    "ax.set_xticklabels(names)\n",
    "plt.savefig('boxplot.png')"
   ]
  },
  {
   "cell_type": "code",
   "execution_count": 40,
   "id": "8036e9f8-6f89-49ed-945b-980ea275121f",
   "metadata": {},
   "outputs": [],
   "source": [
    "from sklearn.model_selection import train_test_split"
   ]
  },
  {
   "cell_type": "code",
   "execution_count": 41,
   "id": "986274f7-d8cd-41b8-9868-aff78c289e22",
   "metadata": {},
   "outputs": [],
   "source": [
    "x_train,x_test,y_train,y_test=train_test_split(X,Y,train_size=0.8,stratify=Y)   #stratify - same proportion of labels in both X & Y "
   ]
  },
  {
   "cell_type": "code",
   "execution_count": 42,
   "id": "c3a80ce1-9aa3-4083-8583-6f8263892ab7",
   "metadata": {},
   "outputs": [],
   "source": [
    "from sklearn.metrics import confusion_matrix\n",
    "import seaborn as sns"
   ]
  },
  {
   "cell_type": "code",
   "execution_count": 43,
   "id": "4e49ed6e-b383-4435-a427-c37914a05539",
   "metadata": {},
   "outputs": [
    {
     "name": "stderr",
     "output_type": "stream",
     "text": [
      "/home/bandicoot4218/.local/lib/python3.8/site-packages/sklearn/linear_model/_logistic.py:460: ConvergenceWarning: lbfgs failed to converge (status=1):\n",
      "STOP: TOTAL NO. of ITERATIONS REACHED LIMIT.\n",
      "\n",
      "Increase the number of iterations (max_iter) or scale the data as shown in:\n",
      "    https://scikit-learn.org/stable/modules/preprocessing.html\n",
      "Please also refer to the documentation for alternative solver options:\n",
      "    https://scikit-learn.org/stable/modules/linear_model.html#logistic-regression\n",
      "  n_iter_i = _check_optimize_result(\n"
     ]
    },
    {
     "data": {
      "image/png": "[encoded data removed]",
      "text/plain": [
       "<Figure size 640x480 with 12 Axes>"
      ]
     },
     "metadata": {},
     "output_type": "display_data"
    }
   ],
   "source": [
    "i=1                     #for plotting confusion matrices\n",
    "confusion_matrices=[]   #for calculating recall, precision and f-measure values\n",
    "\n",
    "for name,model in models:\n",
    "    model.fit(x_train,y_train)\n",
    "    y_predicted=model.predict(x_test)\n",
    "    cm=confusion_matrix(y_test,y_predicted)\n",
    "    confusion_matrices.append((name,cm))\n",
    "\n",
    "    plt.subplot(2,3,i)\n",
    "    i+=1\n",
    "    plt.title(name) \n",
    "    sns.heatmap((cm/np.sum(cm))*100,annot=True,fmt='.2f',square=True)\n",
    "\n",
    "plt.tight_layout()\n",
    "plt.savefig('heatmap_1.png')"
   ]
  },
  {
   "cell_type": "code",
   "execution_count": 44,
   "id": "c66a6e7f-6076-4403-9124-2536f8e3c742",
   "metadata": {},
   "outputs": [
    {
     "name": "stdout",
     "output_type": "stream",
     "text": [
      "LR: Recall=0.8431372549019608, Precision=0.8113207547169812, F-measure=0.826923076923077\n",
      "\n",
      "LDA: Recall=0.8529411764705882, Precision=0.8130841121495327, F-measure=0.832535885167464\n",
      "\n",
      "KNC: Recall=0.7450980392156863, Precision=0.7307692307692307, F-measure=0.7378640776699028\n",
      "\n",
      "DTC: Recall=0.8431372549019608, Precision=0.7747747747747747, F-measure=0.8075117370892019\n",
      "\n",
      "NB: Recall=0.8431372549019608, Precision=0.819047619047619, F-measure=0.8309178743961353\n",
      "\n",
      "SVM: Recall=0.7450980392156863, Precision=0.7307692307692307, F-measure=0.7378640776699028\n",
      "\n"
     ]
    }
   ],
   "source": [
    "for name,cm in confusion_matrices:\n",
    "    recall=cm[1][1]/(cm[1][1]+cm[1][0])\n",
    "    precision=cm[1][1]/(cm[1][1]+cm[0][1])\n",
    "    print(f'{name}: Recall={recall}, Precision={precision}, F-measure={(2*recall*precision)/(recall+precision)}')\n",
    "    print('')"
   ]
  },
  {
   "cell_type": "markdown",
   "id": "e1178cdb-c276-4879-be8b-52513c650dc7",
   "metadata": {},
   "source": [
    "### voting"
   ]
  },
  {
   "cell_type": "code",
   "execution_count": 45,
   "id": "5328a191-6c8d-4422-9ec4-298990f28118",
   "metadata": {},
   "outputs": [],
   "source": [
    "estimators = []\n",
    "model1 = LogisticRegression()\n",
    "model2 = LinearDiscriminantAnalysis()\n",
    "model3 = GaussianNB()\n",
    "estimators.append(('LR',model1))\n",
    "estimators.append(('LDA',model2))\n",
    "estimators.append(('NB',model3))"
   ]
  },
  {
   "cell_type": "code",
   "execution_count": 46,
   "id": "3d851b72-ad6f-4488-9909-518ecd57d016",
   "metadata": {},
   "outputs": [],
   "source": [
    "from sklearn.ensemble import VotingClassifier\n",
    "ensemble = VotingClassifier(estimators)"
   ]
  },
  {
   "cell_type": "code",
   "execution_count": 47,
   "id": "eb93d00f-1861-4fa3-b0e5-51a8f7629497",
   "metadata": {},
   "outputs": [
    {
     "name": "stderr",
     "output_type": "stream",
     "text": [
      "/home/bandicoot4218/.local/lib/python3.8/site-packages/sklearn/linear_model/_logistic.py:460: ConvergenceWarning: lbfgs failed to converge (status=1):\n",
      "STOP: TOTAL NO. of ITERATIONS REACHED LIMIT.\n",
      "\n",
      "Increase the number of iterations (max_iter) or scale the data as shown in:\n",
      "    https://scikit-learn.org/stable/modules/preprocessing.html\n",
      "Please also refer to the documentation for alternative solver options:\n",
      "    https://scikit-learn.org/stable/modules/linear_model.html#logistic-regression\n",
      "  n_iter_i = _check_optimize_result(\n",
      "/home/bandicoot4218/.local/lib/python3.8/site-packages/sklearn/linear_model/_logistic.py:460: ConvergenceWarning: lbfgs failed to converge (status=1):\n",
      "STOP: TOTAL NO. of ITERATIONS REACHED LIMIT.\n",
      "\n",
      "Increase the number of iterations (max_iter) or scale the data as shown in:\n",
      "    https://scikit-learn.org/stable/modules/preprocessing.html\n",
      "Please also refer to the documentation for alternative solver options:\n",
      "    https://scikit-learn.org/stable/modules/linear_model.html#logistic-regression\n",
      "  n_iter_i = _check_optimize_result(\n",
      "/home/bandicoot4218/.local/lib/python3.8/site-packages/sklearn/linear_model/_logistic.py:460: ConvergenceWarning: lbfgs failed to converge (status=1):\n",
      "STOP: TOTAL NO. of ITERATIONS REACHED LIMIT.\n",
      "\n",
      "Increase the number of iterations (max_iter) or scale the data as shown in:\n",
      "    https://scikit-learn.org/stable/modules/preprocessing.html\n",
      "Please also refer to the documentation for alternative solver options:\n",
      "    https://scikit-learn.org/stable/modules/linear_model.html#logistic-regression\n",
      "  n_iter_i = _check_optimize_result(\n",
      "/home/bandicoot4218/.local/lib/python3.8/site-packages/sklearn/linear_model/_logistic.py:460: ConvergenceWarning: lbfgs failed to converge (status=1):\n",
      "STOP: TOTAL NO. of ITERATIONS REACHED LIMIT.\n",
      "\n",
      "Increase the number of iterations (max_iter) or scale the data as shown in:\n",
      "    https://scikit-learn.org/stable/modules/preprocessing.html\n",
      "Please also refer to the documentation for alternative solver options:\n",
      "    https://scikit-learn.org/stable/modules/linear_model.html#logistic-regression\n",
      "  n_iter_i = _check_optimize_result(\n",
      "/home/bandicoot4218/.local/lib/python3.8/site-packages/sklearn/linear_model/_logistic.py:460: ConvergenceWarning: lbfgs failed to converge (status=1):\n",
      "STOP: TOTAL NO. of ITERATIONS REACHED LIMIT.\n",
      "\n",
      "Increase the number of iterations (max_iter) or scale the data as shown in:\n",
      "    https://scikit-learn.org/stable/modules/preprocessing.html\n",
      "Please also refer to the documentation for alternative solver options:\n",
      "    https://scikit-learn.org/stable/modules/linear_model.html#logistic-regression\n",
      "  n_iter_i = _check_optimize_result(\n",
      "/home/bandicoot4218/.local/lib/python3.8/site-packages/sklearn/linear_model/_logistic.py:460: ConvergenceWarning: lbfgs failed to converge (status=1):\n",
      "STOP: TOTAL NO. of ITERATIONS REACHED LIMIT.\n",
      "\n",
      "Increase the number of iterations (max_iter) or scale the data as shown in:\n",
      "    https://scikit-learn.org/stable/modules/preprocessing.html\n",
      "Please also refer to the documentation for alternative solver options:\n",
      "    https://scikit-learn.org/stable/modules/linear_model.html#logistic-regression\n",
      "  n_iter_i = _check_optimize_result(\n",
      "/home/bandicoot4218/.local/lib/python3.8/site-packages/sklearn/linear_model/_logistic.py:460: ConvergenceWarning: lbfgs failed to converge (status=1):\n",
      "STOP: TOTAL NO. of ITERATIONS REACHED LIMIT.\n",
      "\n",
      "Increase the number of iterations (max_iter) or scale the data as shown in:\n",
      "    https://scikit-learn.org/stable/modules/preprocessing.html\n",
      "Please also refer to the documentation for alternative solver options:\n",
      "    https://scikit-learn.org/stable/modules/linear_model.html#logistic-regression\n",
      "  n_iter_i = _check_optimize_result(\n",
      "/home/bandicoot4218/.local/lib/python3.8/site-packages/sklearn/linear_model/_logistic.py:460: ConvergenceWarning: lbfgs failed to converge (status=1):\n",
      "STOP: TOTAL NO. of ITERATIONS REACHED LIMIT.\n",
      "\n",
      "Increase the number of iterations (max_iter) or scale the data as shown in:\n",
      "    https://scikit-learn.org/stable/modules/preprocessing.html\n",
      "Please also refer to the documentation for alternative solver options:\n",
      "    https://scikit-learn.org/stable/modules/linear_model.html#logistic-regression\n",
      "  n_iter_i = _check_optimize_result(\n",
      "/home/bandicoot4218/.local/lib/python3.8/site-packages/sklearn/linear_model/_logistic.py:460: ConvergenceWarning: lbfgs failed to converge (status=1):\n",
      "STOP: TOTAL NO. of ITERATIONS REACHED LIMIT.\n",
      "\n",
      "Increase the number of iterations (max_iter) or scale the data as shown in:\n",
      "    https://scikit-learn.org/stable/modules/preprocessing.html\n",
      "Please also refer to the documentation for alternative solver options:\n",
      "    https://scikit-learn.org/stable/modules/linear_model.html#logistic-regression\n",
      "  n_iter_i = _check_optimize_result(\n",
      "/home/bandicoot4218/.local/lib/python3.8/site-packages/sklearn/linear_model/_logistic.py:460: ConvergenceWarning: lbfgs failed to converge (status=1):\n",
      "STOP: TOTAL NO. of ITERATIONS REACHED LIMIT.\n",
      "\n",
      "Increase the number of iterations (max_iter) or scale the data as shown in:\n",
      "    https://scikit-learn.org/stable/modules/preprocessing.html\n",
      "Please also refer to the documentation for alternative solver options:\n",
      "    https://scikit-learn.org/stable/modules/linear_model.html#logistic-regression\n",
      "  n_iter_i = _check_optimize_result(\n"
     ]
    },
    {
     "data": {
      "text/plain": [
       "array([0.88043478, 0.90217391, 0.92391304, 0.77173913, 0.88043478,\n",
       "       0.90217391, 0.84782609, 0.79120879, 0.75824176, 0.81318681])"
      ]
     },
     "execution_count": 47,
     "metadata": {},
     "output_type": "execute_result"
    }
   ],
   "source": [
    "kfold = KFold(n_splits = 10)\n",
    "results_ensemble = cross_val_score(ensemble, X, Y, cv = kfold)\n",
    "results_ensemble"
   ]
  },
  {
   "cell_type": "code",
   "execution_count": 48,
   "id": "5379e056-dbbb-4667-9036-ec09ee152092",
   "metadata": {},
   "outputs": [
    {
     "data": {
      "text/plain": [
       "0.8471333014811275"
      ]
     },
     "execution_count": 48,
     "metadata": {},
     "output_type": "execute_result"
    }
   ],
   "source": [
    "results_ensemble.mean()"
   ]
  },
  {
   "cell_type": "markdown",
   "id": "6c621b9c-2b90-483e-a870-b961a84ec813",
   "metadata": {},
   "source": [
    "### fitting the data"
   ]
  },
  {
   "cell_type": "code",
   "execution_count": 49,
   "id": "68506d37-e74c-4f5a-b742-9c31ce9ce9da",
   "metadata": {},
   "outputs": [
    {
     "name": "stderr",
     "output_type": "stream",
     "text": [
      "/home/bandicoot4218/.local/lib/python3.8/site-packages/sklearn/linear_model/_logistic.py:460: ConvergenceWarning: lbfgs failed to converge (status=1):\n",
      "STOP: TOTAL NO. of ITERATIONS REACHED LIMIT.\n",
      "\n",
      "Increase the number of iterations (max_iter) or scale the data as shown in:\n",
      "    https://scikit-learn.org/stable/modules/preprocessing.html\n",
      "Please also refer to the documentation for alternative solver options:\n",
      "    https://scikit-learn.org/stable/modules/linear_model.html#logistic-regression\n",
      "  n_iter_i = _check_optimize_result(\n"
     ]
    }
   ],
   "source": [
    "model_final = ensemble.fit(x_train,y_train)"
   ]
  },
  {
   "cell_type": "code",
   "execution_count": 50,
   "id": "283c31a8-b69e-4b94-a1db-af4144f2cbcf",
   "metadata": {},
   "outputs": [
    {
     "data": {
      "text/plain": [
       "0.878581173260573"
      ]
     },
     "execution_count": 50,
     "metadata": {},
     "output_type": "execute_result"
    }
   ],
   "source": [
    "# training score\n",
    "\n",
    "model_final.score(x_train,y_train)"
   ]
  },
  {
   "cell_type": "code",
   "execution_count": 51,
   "id": "e53163f8-d682-46be-a0eb-9b48d88321a0",
   "metadata": {},
   "outputs": [
    {
     "data": {
      "text/plain": [
       "0.8097826086956522"
      ]
     },
     "execution_count": 51,
     "metadata": {},
     "output_type": "execute_result"
    }
   ],
   "source": [
    "# testing score\n",
    "\n",
    "model_final.score(x_test,y_test)"
   ]
  },
  {
   "cell_type": "code",
   "execution_count": 52,
   "id": "e489e43b-ab16-49e4-8bad-40da145c238d",
   "metadata": {},
   "outputs": [],
   "source": [
    "# since both training and testing scores are quite close and in the convenient range, we can say that the model is aptly fit."
   ]
  },
  {
   "cell_type": "code",
   "execution_count": 53,
   "id": "9f176cfd-2bf8-430b-a0a1-03561cfc96b5",
   "metadata": {},
   "outputs": [
    {
     "data": {
      "image/png": "[encoded data removed]",
      "text/plain": [
       "<Figure size 640x480 with 2 Axes>"
      ]
     },
     "metadata": {},
     "output_type": "display_data"
    }
   ],
   "source": [
    "cm_final=confusion_matrix(y_test,model_final.predict(x_test))\n",
    "sns.heatmap((cm_final/np.sum(cm_final))*100,annot=True,fmt='.2f',square=True)\n",
    "plt.savefig('heatmap_2.png')"
   ]
  },
  {
   "cell_type": "code",
   "execution_count": 54,
   "id": "a1104621-6c09-4cec-bd49-fe179cd23369",
   "metadata": {},
   "outputs": [
    {
     "name": "stdout",
     "output_type": "stream",
     "text": [
      "Recall = 0.8529411764705882\n",
      "Precision = 0.8130841121495327\n",
      "F-measure = 0.832535885167464\n"
     ]
    }
   ],
   "source": [
    "recall=cm_final[1][1]/(cm_final[1][1]+cm_final[1][0])\n",
    "precision=cm_final[1][1]/(cm_final[1][1]+cm_final[0][1])\n",
    "print(f'''Recall = {recall}\n",
    "Precision = {precision}\n",
    "F-measure = {(2*recall*precision)/(recall+precision)}''')"
   ]
  },
  {
   "cell_type": "code",
   "execution_count": 55,
   "id": "da6e3e0c-7da1-44ed-84b2-252d355737af",
   "metadata": {},
   "outputs": [],
   "source": [
    "# the recall, precision and f-measure values are also high for this ensemble model."
   ]
  },
  {
   "cell_type": "markdown",
   "id": "567b4648-28d4-41fb-b317-4c99496e610a",
   "metadata": {},
   "source": [
    "### testing data prediction"
   ]
  },
  {
   "cell_type": "code",
   "execution_count": 56,
   "id": "19444b95-ef8c-479f-b679-a3da688d6c09",
   "metadata": {},
   "outputs": [
    {
     "data": {
      "text/plain": [
       "1.0"
      ]
     },
     "execution_count": 56,
     "metadata": {},
     "output_type": "execute_result"
    }
   ],
   "source": [
    "df2.values.tolist()[250][-1]"
   ]
  },
  {
   "cell_type": "code",
   "execution_count": 57,
   "id": "fe26244f-c482-4a55-9bfd-36670ee4f8e2",
   "metadata": {},
   "outputs": [],
   "source": [
    "# because one of the columns is float32, dtype='float32'\n",
    "\n",
    "test_input = np.asarray(df2.values.tolist()[250][:-1],dtype='float32') "
   ]
  },
  {
   "cell_type": "code",
   "execution_count": 58,
   "id": "2d6776b3-0e1b-408b-b106-c0fe12516031",
   "metadata": {},
   "outputs": [
    {
     "data": {
      "text/plain": [
       "(15,)"
      ]
     },
     "execution_count": 58,
     "metadata": {},
     "output_type": "execute_result"
    }
   ],
   "source": [
    "test_input.shape"
   ]
  },
  {
   "cell_type": "code",
   "execution_count": 59,
   "id": "6112a042-527a-49a0-b3e5-1cecb8e35de8",
   "metadata": {},
   "outputs": [
    {
     "data": {
      "text/plain": [
       "(1, 15)"
      ]
     },
     "execution_count": 59,
     "metadata": {},
     "output_type": "execute_result"
    }
   ],
   "source": [
    "# reshaping the input data array\n",
    "\n",
    "test_input = test_input.reshape(1,-1)   \n",
    "test_input.shape"
   ]
  },
  {
   "cell_type": "code",
   "execution_count": 60,
   "id": "c84a9656-c980-473e-aeec-68f2e607e61e",
   "metadata": {},
   "outputs": [
    {
     "name": "stderr",
     "output_type": "stream",
     "text": [
      "/home/bandicoot4218/.local/lib/python3.8/site-packages/sklearn/base.py:465: UserWarning: X does not have valid feature names, but LogisticRegression was fitted with feature names\n",
      "  warnings.warn(\n",
      "/home/bandicoot4218/.local/lib/python3.8/site-packages/sklearn/base.py:465: UserWarning: X does not have valid feature names, but LinearDiscriminantAnalysis was fitted with feature names\n",
      "  warnings.warn(\n",
      "/home/bandicoot4218/.local/lib/python3.8/site-packages/sklearn/base.py:465: UserWarning: X does not have valid feature names, but GaussianNB was fitted with feature names\n",
      "  warnings.warn(\n"
     ]
    },
    {
     "data": {
      "text/plain": [
       "array([1], dtype=uint8)"
      ]
     },
     "execution_count": 60,
     "metadata": {},
     "output_type": "execute_result"
    }
   ],
   "source": [
    "pred_val = model_final.predict(test_input)\n",
    "pred_val"
   ]
  },
  {
   "cell_type": "code",
   "execution_count": 61,
   "id": "6fac11d8-0054-4542-8588-c871242c9049",
   "metadata": {},
   "outputs": [
    {
     "name": "stdout",
     "output_type": "stream",
     "text": [
      "The person has heart disease.\n"
     ]
    }
   ],
   "source": [
    "if pred_val==0:\n",
    "    print('The person does not have heart disease.')\n",
    "elif pred_val==1:\n",
    "    print('The person has heart disease.')\n",
    "else:\n",
    "    print('Error!')"
   ]
  },
  {
   "cell_type": "markdown",
   "id": "5f8f9ce8-65e8-4aea-aa65-9b2e38ea144b",
   "metadata": {},
   "source": [
    "### saving the model"
   ]
  },
  {
   "cell_type": "code",
   "execution_count": 62,
   "id": "34f07689-e87d-46fb-8f88-d4941e191627",
   "metadata": {},
   "outputs": [],
   "source": [
    "import pickle \n",
    "pickle.dump(model_final,open('heart_disease_pred.sav','wb'))"
   ]
  },
  {
   "cell_type": "markdown",
   "id": "5a0cc250-4b05-4cf5-891c-0d632f584c22",
   "metadata": {},
   "source": [
    "### loading the model"
   ]
  },
  {
   "cell_type": "code",
   "execution_count": 63,
   "id": "7475d661-7e31-480a-872d-c59ec9064443",
   "metadata": {},
   "outputs": [],
   "source": [
    "load_model=pickle.load(open('heart_disease_pred.sav','rb'))\n",
    "\n",
    "test_dataset = pd.read_csv('test_dataset.csv')"
   ]
  },
  {
   "cell_type": "code",
   "execution_count": 64,
   "id": "99190e89-f2e2-4bdf-9e5a-084115e6a3ae",
   "metadata": {},
   "outputs": [
    {
     "name": "stdout",
     "output_type": "stream",
     "text": [
      "0.0\n",
      "The person does not have heart disease.\n"
     ]
    },
    {
     "name": "stderr",
     "output_type": "stream",
     "text": [
      "/home/bandicoot4218/.local/lib/python3.8/site-packages/sklearn/base.py:465: UserWarning: X does not have valid feature names, but LogisticRegression was fitted with feature names\n",
      "  warnings.warn(\n",
      "/home/bandicoot4218/.local/lib/python3.8/site-packages/sklearn/base.py:465: UserWarning: X does not have valid feature names, but LinearDiscriminantAnalysis was fitted with feature names\n",
      "  warnings.warn(\n",
      "/home/bandicoot4218/.local/lib/python3.8/site-packages/sklearn/base.py:465: UserWarning: X does not have valid feature names, but GaussianNB was fitted with feature names\n",
      "  warnings.warn(\n"
     ]
    }
   ],
   "source": [
    "index=200\n",
    "\n",
    "print(test_dataset.values.tolist()[index][-1])\n",
    "\n",
    "test_input_2 = np.asarray(test_dataset.values.tolist()[index][:-1],dtype='float32') \n",
    "test_input_2 = test_input_2.reshape(1,-1)   \n",
    "pred_val_2=load_model.predict(test_input_2)\n",
    "\n",
    "if pred_val_2==0:\n",
    "    print('The person does not have heart disease.')\n",
    "elif pred_val_2==1:\n",
    "    print('The person has heart disease.')\n",
    "else:\n",
    "    print('Error!')"
   ]
  }
 ],
 "metadata": {
  "kernelspec": {
   "display_name": "Python 3 (ipykernel)",
   "language": "python",
   "name": "python3"
  },
  "language_info": {
   "codemirror_mode": {
    "name": "ipython",
    "version": 3
   },
   "file_extension": ".py",
   "mimetype": "text/x-python",
   "name": "python",
   "nbconvert_exporter": "python",
   "pygments_lexer": "ipython3",
   "version": "3.8.10"
  }
 },
 "nbformat": 4,
 "nbformat_minor": 5
}
